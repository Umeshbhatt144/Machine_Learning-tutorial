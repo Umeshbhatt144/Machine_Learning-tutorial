{
 "cells": [
  {
   "cell_type": "markdown",
   "metadata": {
    "id": "Hw5UGha8f4wZ"
   },
   "source": [
    "<h1 align='center' style='color:purple'><b>Grid Search CV</b></h1>"
   ]
  },
  {
   "cell_type": "markdown",
   "metadata": {
    "id": "MIyuq6gdf4wd"
   },
   "source": [
    "GridSearchCV is an Exhaustive search over specified parameter values for an estimator (ML Model). Model's performance for Each combination of defined hyper-parameters are calculated along with Cross Validation. In this way, using GridSearchCV you can find the best combination of hyper-parameters for a model."
   ]
  },
  {
   "cell_type": "code",
   "execution_count": 1,
   "metadata": {
    "id": "WWOX2uyndkl7"
   },
   "outputs": [],
   "source": [
    "import pandas as pd\n",
    "import seaborn as sns\n",
    "import matplotlib.pyplot as plt\n",
    "import numpy as np\n",
    "%matplotlib inline"
   ]
  },
  {
   "cell_type": "markdown",
   "metadata": {
    "id": "IPMzDF0xf4wf"
   },
   "source": [
    "<b> Upload Data </b>"
   ]
  },
  {
   "cell_type": "markdown",
   "metadata": {
    "id": "XWvq9-nFSvUW"
   },
   "source": [
    "This dataset is originally from the National Institute of Diabetes and Digestive and Kidney Diseases. The objective of the dataset is to diagnostically predict whether or not a patient has diabetes, based on certain diagnostic measurements included in the dataset. Several constraints were placed on the selection of these instances from a larger database. In particular, all patients here are females at least 21 years old of Pima Indian heritage."
   ]
  },
  {
   "cell_type": "code",
   "execution_count": 2,
   "metadata": {
    "colab": {
     "base_uri": "https://localhost:8080/",
     "height": 195
    },
    "id": "KPtyjHAKdurc",
    "outputId": "e0cb5580-0e1a-48cc-ec0f-20b3b5d49763"
   },
   "outputs": [
    {
     "data": {
      "text/html": [
       "<div>\n",
       "<style scoped>\n",
       "    .dataframe tbody tr th:only-of-type {\n",
       "        vertical-align: middle;\n",
       "    }\n",
       "\n",
       "    .dataframe tbody tr th {\n",
       "        vertical-align: top;\n",
       "    }\n",
       "\n",
       "    .dataframe thead th {\n",
       "        text-align: right;\n",
       "    }\n",
       "</style>\n",
       "<table border=\"1\" class=\"dataframe\">\n",
       "  <thead>\n",
       "    <tr style=\"text-align: right;\">\n",
       "      <th></th>\n",
       "      <th>Pregnancies</th>\n",
       "      <th>Glucose</th>\n",
       "      <th>BloodPressure</th>\n",
       "      <th>SkinThickness</th>\n",
       "      <th>Insulin</th>\n",
       "      <th>BMI</th>\n",
       "      <th>DiabetesPedigreeFunction</th>\n",
       "      <th>Age</th>\n",
       "      <th>Outcome</th>\n",
       "    </tr>\n",
       "  </thead>\n",
       "  <tbody>\n",
       "    <tr>\n",
       "      <th>0</th>\n",
       "      <td>6</td>\n",
       "      <td>148</td>\n",
       "      <td>72</td>\n",
       "      <td>35</td>\n",
       "      <td>0</td>\n",
       "      <td>33.6</td>\n",
       "      <td>0.627</td>\n",
       "      <td>50</td>\n",
       "      <td>1</td>\n",
       "    </tr>\n",
       "    <tr>\n",
       "      <th>1</th>\n",
       "      <td>1</td>\n",
       "      <td>85</td>\n",
       "      <td>66</td>\n",
       "      <td>29</td>\n",
       "      <td>0</td>\n",
       "      <td>26.6</td>\n",
       "      <td>0.351</td>\n",
       "      <td>31</td>\n",
       "      <td>0</td>\n",
       "    </tr>\n",
       "    <tr>\n",
       "      <th>2</th>\n",
       "      <td>8</td>\n",
       "      <td>183</td>\n",
       "      <td>64</td>\n",
       "      <td>0</td>\n",
       "      <td>0</td>\n",
       "      <td>23.3</td>\n",
       "      <td>0.672</td>\n",
       "      <td>32</td>\n",
       "      <td>1</td>\n",
       "    </tr>\n",
       "    <tr>\n",
       "      <th>3</th>\n",
       "      <td>1</td>\n",
       "      <td>89</td>\n",
       "      <td>66</td>\n",
       "      <td>23</td>\n",
       "      <td>94</td>\n",
       "      <td>28.1</td>\n",
       "      <td>0.167</td>\n",
       "      <td>21</td>\n",
       "      <td>0</td>\n",
       "    </tr>\n",
       "    <tr>\n",
       "      <th>4</th>\n",
       "      <td>0</td>\n",
       "      <td>137</td>\n",
       "      <td>40</td>\n",
       "      <td>35</td>\n",
       "      <td>168</td>\n",
       "      <td>43.1</td>\n",
       "      <td>2.288</td>\n",
       "      <td>33</td>\n",
       "      <td>1</td>\n",
       "    </tr>\n",
       "  </tbody>\n",
       "</table>\n",
       "</div>"
      ],
      "text/plain": [
       "   Pregnancies  Glucose  BloodPressure  SkinThickness  Insulin   BMI  \\\n",
       "0            6      148             72             35        0  33.6   \n",
       "1            1       85             66             29        0  26.6   \n",
       "2            8      183             64              0        0  23.3   \n",
       "3            1       89             66             23       94  28.1   \n",
       "4            0      137             40             35      168  43.1   \n",
       "\n",
       "   DiabetesPedigreeFunction  Age  Outcome  \n",
       "0                     0.627   50        1  \n",
       "1                     0.351   31        0  \n",
       "2                     0.672   32        1  \n",
       "3                     0.167   21        0  \n",
       "4                     2.288   33        1  "
      ]
     },
     "execution_count": 2,
     "metadata": {},
     "output_type": "execute_result"
    }
   ],
   "source": [
    "df = pd.read_csv(\"diabetes.csv\")\n",
    "df.head()"
   ]
  },
  {
   "cell_type": "markdown",
   "metadata": {
    "id": "RxM24gfKjJvU"
   },
   "source": [
    "The datasets consists of several medical predictor variables and one target variable, Outcome. Predictor variables includes the number of pregnancies the patient has had, their BMI, insulin level, age, and so on."
   ]
  },
  {
   "cell_type": "markdown",
   "metadata": {
    "id": "NbYTxAE_SvUZ"
   },
   "source": [
    "<b> Outlier Removal</b>\n",
    "\n",
    "Find and remove Outliers from the Dataset"
   ]
  },
  {
   "cell_type": "markdown",
   "metadata": {
    "id": "YwNrH8gJSvUZ"
   },
   "source": [
    "Using Box Plot, Detect the outliers of each features in our dataset. Any point above or below the whiskers represent an outlier. "
   ]
  },
  {
   "cell_type": "code",
   "execution_count": 3,
   "metadata": {
    "colab": {
     "base_uri": "https://localhost:8080/",
     "height": 638
    },
    "id": "aOHapAshSvUa",
    "outputId": "ba63127b-b599-4fb5-e28d-3bba55e9f224",
    "scrolled": false
   },
   "outputs": [
    {
     "data": {
      "text/plain": [
       "Text(0.5, 1.0, 'Boxplot of all Features')"
      ]
     },
     "execution_count": 3,
     "metadata": {},
     "output_type": "execute_result"
    },
    {
     "data": {
      "image/png": "[encoded data removed]",
      "text/plain": [
       "<Figure size 1440x720 with 1 Axes>"
      ]
     },
     "metadata": {
      "needs_background": "light"
     },
     "output_type": "display_data"
    }
   ],
   "source": [
    "plt.figure(figsize = (20,10))\n",
    "df.drop('Outcome', axis = 1).boxplot()\n",
    "plt.xlabel('Inputs / Features')\n",
    "plt.title('Boxplot of all Features')"
   ]
  },
  {
   "cell_type": "code",
   "execution_count": 4,
   "metadata": {
    "id": "H-0gyDnxSvUa"
   },
   "outputs": [],
   "source": [
    "# Store the length of Initial Dataset\n",
    "number_of_records = df.shape[0]\n",
    "\n",
    "# For every input/ Feature, identify and remove outliers\n",
    "for i in df.columns.drop('Outcome'):\n",
    "\n",
    "    # Find 1st and 3rd Quartile\n",
    "    q1 = df[i].quantile(0.25)\n",
    "    q3 = df[i].quantile(0.75)\n",
    "\n",
    "    # Find Inter Quartile Range (IQR)\n",
    "    iqr = q3-q1\n",
    "\n",
    "    # Find lower and Upper Limits\n",
    "    lower_limit = q1 - 1.5 * iqr\n",
    "    upper_limit = q3 + 1.5 * iqr\n",
    "\n",
    "    # Remove Outliers (Data Points/Records Present outside (lower_limit, upper_limit) Range)\n",
    "    df = df[(df[i] > lower_limit) & (df[i] < upper_limit)]\n",
    "    "
   ]
  },
  {
   "cell_type": "markdown",
   "metadata": {
    "id": "BoBz4HKLZJFg"
   },
   "source": [
    "<b> Find out How many outliers were identified and removed by finding the difference in the lengeth of Dataset Before and After Outlier Removal </b>"
   ]
  },
  {
   "cell_type": "code",
   "execution_count": 5,
   "metadata": {
    "colab": {
     "base_uri": "https://localhost:8080/"
    },
    "id": "5k7J6q6ySvUb",
    "outputId": "9d76058f-d3c7-4e9c-820e-d0bc8130a9ba"
   },
   "outputs": [
    {
     "name": "stdout",
     "output_type": "stream",
     "text": [
      "132 Outliers removed.\n"
     ]
    }
   ],
   "source": [
    "print('{} Outliers removed.'.format(number_of_records-len(df)))"
   ]
  },
  {
   "cell_type": "markdown",
   "metadata": {
    "id": "PB7euHGJSvUb"
   },
   "source": [
    "<b> Separate Inputs and Target </b>"
   ]
  },
  {
   "cell_type": "code",
   "execution_count": 6,
   "metadata": {
    "id": "pqk8HiI8d_S-"
   },
   "outputs": [],
   "source": [
    "inputs = df.drop('Outcome',axis='columns')\n",
    "target = df.Outcome"
   ]
  },
  {
   "cell_type": "markdown",
   "metadata": {
    "id": "Hw0qS9AIeNF-"
   },
   "source": [
    "## Approach 1: Use train_test_split and manually tune parameters by trial and error"
   ]
  },
  {
   "cell_type": "code",
   "execution_count": 7,
   "metadata": {
    "id": "n8ilmJ9geLYu"
   },
   "outputs": [],
   "source": [
    "from sklearn.model_selection import train_test_split\n",
    "X_train, X_test, y_train, y_test = train_test_split(inputs,target,test_size=0.3)"
   ]
  },
  {
   "cell_type": "code",
   "execution_count": 8,
   "metadata": {
    "colab": {
     "base_uri": "https://localhost:8080/"
    },
    "id": "x4MMyKtveTsP",
    "outputId": "7250d197-8e1e-42bc-8002-c70fa0c960a7"
   },
   "outputs": [
    {
     "name": "stdout",
     "output_type": "stream",
     "text": [
      "Model Accuracy : 0.738\n"
     ]
    }
   ],
   "source": [
    "# Here we are using a Support Vector Classifier\n",
    "from sklearn import svm\n",
    "model = svm.SVC(kernel='rbf',C=30,gamma='auto')\n",
    "model.fit(X_train,y_train)\n",
    "print('Model Accuracy :', round(model.score(X_test, y_test),3))"
   ]
  },
  {
   "cell_type": "markdown",
   "metadata": {
    "id": "KPpOdqJWembu"
   },
   "source": [
    "## Approach 2: Use K Fold Cross validation"
   ]
  },
  {
   "cell_type": "markdown",
   "metadata": {
    "id": "WuS5qeKaeqNO"
   },
   "source": [
    "**Manually try suppling models with different parameters to cross_val_score function with 5 fold cross validation**"
   ]
  },
  {
   "cell_type": "code",
   "execution_count": 9,
   "metadata": {
    "id": "V7PPlXw8eW-9"
   },
   "outputs": [],
   "source": [
    "from sklearn.model_selection import cross_val_score"
   ]
  },
  {
   "cell_type": "code",
   "execution_count": 10,
   "metadata": {
    "colab": {
     "base_uri": "https://localhost:8080/"
    },
    "id": "bRMkfD4ne2dG",
    "outputId": "8abd65f7-2a48-4b84-def9-7c538fccc69b"
   },
   "outputs": [
    {
     "data": {
      "text/plain": [
       "array([0.765625  , 0.72440945, 0.75590551, 0.81889764, 0.80314961])"
      ]
     },
     "execution_count": 10,
     "metadata": {},
     "output_type": "execute_result"
    }
   ],
   "source": [
    "cross_val_score(svm.SVC(kernel='linear',C=10,gamma='auto'), inputs, target, cv=5)"
   ]
  },
  {
   "cell_type": "code",
   "execution_count": 11,
   "metadata": {
    "colab": {
     "base_uri": "https://localhost:8080/"
    },
    "id": "sic979xwfJwm",
    "outputId": "9651db93-a258-45ad-ae25-8f1555e87f8b"
   },
   "outputs": [
    {
     "data": {
      "text/plain": [
       "array([0.6875    , 0.68503937, 0.68503937, 0.69291339, 0.69291339])"
      ]
     },
     "execution_count": 11,
     "metadata": {},
     "output_type": "execute_result"
    }
   ],
   "source": [
    "cross_val_score(svm.SVC(kernel='rbf',C=10,gamma='auto'),inputs, target, cv=5)"
   ]
  },
  {
   "cell_type": "code",
   "execution_count": 12,
   "metadata": {
    "colab": {
     "base_uri": "https://localhost:8080/"
    },
    "id": "d4cMn5ohgBb8",
    "outputId": "5579acc9-5078-4545-a7b7-ef24261714c5"
   },
   "outputs": [
    {
     "data": {
      "text/plain": [
       "array([0.6875    , 0.68503937, 0.68503937, 0.69291339, 0.69291339])"
      ]
     },
     "execution_count": 12,
     "metadata": {},
     "output_type": "execute_result"
    }
   ],
   "source": [
    "cross_val_score(svm.SVC(kernel='rbf',C=20,gamma='auto'),inputs, target, cv=5)"
   ]
  },
  {
   "cell_type": "markdown",
   "metadata": {
    "id": "e_PHlwNhgWwu"
   },
   "source": [
    "**Above approach is tiresome and very manual. We can use for loop as an alternative**"
   ]
  },
  {
   "cell_type": "code",
   "execution_count": 13,
   "metadata": {
    "colab": {
     "base_uri": "https://localhost:8080/"
    },
    "id": "YnLeHxougVzr",
    "outputId": "276f3804-adc6-407b-c55c-8d134f0c1326"
   },
   "outputs": [
    {
     "data": {
      "text/plain": [
       "{'rbf_1': 0.6886811023622048,\n",
       " 'rbf_10': 0.6886811023622048,\n",
       " 'rbf_20': 0.6886811023622048,\n",
       " 'linear_1': 0.7767347440944882,\n",
       " 'linear_10': 0.7735974409448818,\n",
       " 'linear_20': 0.7814714566929133}"
      ]
     },
     "execution_count": 13,
     "metadata": {},
     "output_type": "execute_result"
    }
   ],
   "source": [
    "kernels = ['rbf', 'linear']\n",
    "C = [1,10,20]\n",
    "avg_scores = {}\n",
    "for kval in kernels:\n",
    "    for cval in C:\n",
    "        cv_scores = cross_val_score(svm.SVC(kernel=kval,C=cval,gamma='auto'),inputs, target, cv=5)\n",
    "        avg_scores[kval + '_' + str(cval)] = np.average(cv_scores)\n",
    "\n",
    "avg_scores"
   ]
  },
  {
   "cell_type": "markdown",
   "metadata": {
    "id": "TxezSz4CiNgh"
   },
   "source": [
    "From above results we can say that rbf with C=10,20 or linear with C=20 will give best performance"
   ]
  },
  {
   "cell_type": "markdown",
   "metadata": {
    "id": "HmhQTTspinK1"
   },
   "source": [
    "## Approach 3: Use [GridSearchCV](https://scikit-learn.org/stable/modules/generated/sklearn.model_selection.GridSearchCV.html)\n",
    "\n",
    "Parameters :\n",
    " - estimator : estimator/Model object.\n",
    " - param_grid : Dictionary with parameters names (str) as keys and lists of parameter settings.\n",
    " - scoring : string representing the Strategy to evaluate the performance of the cross-validated model on the test set.\n",
    " - n_jobs : integer representing the Number of jobs to run in parallel. None means 1 and -1 means using all processors.\n",
    " - cv : integer to define how many fold cross validation needs to be performed."
   ]
  },
  {
   "cell_type": "markdown",
   "metadata": {
    "id": "jJgfEMGkirps"
   },
   "source": [
    "**GridSearchCV does exactly same thing as for loop above but in a single line of code**"
   ]
  },
  {
   "cell_type": "code",
   "execution_count": 14,
   "metadata": {
    "colab": {
     "base_uri": "https://localhost:8080/"
    },
    "id": "shKTqdP-gSiS",
    "outputId": "e97a2c9b-0953-412b-b639-9b6bf348fa73"
   },
   "outputs": [
    {
     "data": {
      "text/plain": [
       "{'mean_fit_time': array([4.16834354e-02, 1.89493122e+00, 1.87436581e-02, 1.85691559e+01,\n",
       "        1.73464298e-02, 2.83667678e+01]),\n",
       " 'std_fit_time': array([2.64187840e-03, 4.67823897e-01, 4.11725916e-04, 2.33106271e+00,\n",
       "        7.94294613e-04, 6.77813264e+00]),\n",
       " 'mean_score_time': array([0.00897474, 0.0020051 , 0.00439434, 0.0021945 , 0.00399575,\n",
       "        0.00240602]),\n",
       " 'std_score_time': array([6.30300473e-04, 6.47377051e-04, 7.94739134e-04, 7.46964847e-04,\n",
       "        1.38279487e-05, 8.05465765e-04]),\n",
       " 'param_C': masked_array(data=[1, 1, 10, 10, 20, 20],\n",
       "              mask=[False, False, False, False, False, False],\n",
       "        fill_value='?',\n",
       "             dtype=object),\n",
       " 'param_kernel': masked_array(data=['rbf', 'linear', 'rbf', 'linear', 'rbf', 'linear'],\n",
       "              mask=[False, False, False, False, False, False],\n",
       "        fill_value='?',\n",
       "             dtype=object),\n",
       " 'params': [{'C': 1, 'kernel': 'rbf'},\n",
       "  {'C': 1, 'kernel': 'linear'},\n",
       "  {'C': 10, 'kernel': 'rbf'},\n",
       "  {'C': 10, 'kernel': 'linear'},\n",
       "  {'C': 20, 'kernel': 'rbf'},\n",
       "  {'C': 20, 'kernel': 'linear'}],\n",
       " 'split0_test_score': array([0.6875   , 0.7734375, 0.6875   , 0.765625 , 0.6875   , 0.765625 ]),\n",
       " 'split1_test_score': array([0.68503937, 0.74015748, 0.68503937, 0.72440945, 0.68503937,\n",
       "        0.74015748]),\n",
       " 'split2_test_score': array([0.68503937, 0.76377953, 0.68503937, 0.75590551, 0.68503937,\n",
       "        0.77165354]),\n",
       " 'split3_test_score': array([0.69291339, 0.80314961, 0.69291339, 0.81889764, 0.69291339,\n",
       "        0.81102362]),\n",
       " 'split4_test_score': array([0.69291339, 0.80314961, 0.69291339, 0.80314961, 0.69291339,\n",
       "        0.81889764]),\n",
       " 'mean_test_score': array([0.6886811 , 0.77673474, 0.6886811 , 0.77359744, 0.6886811 ,\n",
       "        0.78147146]),\n",
       " 'std_test_score': array([0.00357054, 0.02413336, 0.00357054, 0.03382739, 0.00357054,\n",
       "        0.02942243]),\n",
       " 'rank_test_score': array([4, 2, 4, 3, 4, 1])}"
      ]
     },
     "execution_count": 14,
     "metadata": {},
     "output_type": "execute_result"
    }
   ],
   "source": [
    "# Import GridSearchCV\n",
    "from sklearn.model_selection import GridSearchCV\n",
    "\n",
    "# Initialize GridSearchCV\n",
    "clf = GridSearchCV(svm.SVC(gamma='auto'), {\n",
    "    'C': [1,10,20],\n",
    "    'kernel': ['rbf','linear']\n",
    "}, cv=5, return_train_score=False)\n",
    "\n",
    "# Fit / Train GridSearchCV\n",
    "clf.fit(inputs, target)\n",
    "\n",
    "# Print Cross-validation Results\n",
    "clf.cv_results_"
   ]
  },
  {
   "cell_type": "code",
   "execution_count": 15,
   "metadata": {
    "colab": {
     "base_uri": "https://localhost:8080/",
     "height": 446
    },
    "id": "yGBzHY5uiwf6",
    "outputId": "737bb6c7-5dae-4a1f-b9bc-4e1c9650e7bc"
   },
   "outputs": [
    {
     "data": {
      "text/html": [
       "<div>\n",
       "<style scoped>\n",
       "    .dataframe tbody tr th:only-of-type {\n",
       "        vertical-align: middle;\n",
       "    }\n",
       "\n",
       "    .dataframe tbody tr th {\n",
       "        vertical-align: top;\n",
       "    }\n",
       "\n",
       "    .dataframe thead th {\n",
       "        text-align: right;\n",
       "    }\n",
       "</style>\n",
       "<table border=\"1\" class=\"dataframe\">\n",
       "  <thead>\n",
       "    <tr style=\"text-align: right;\">\n",
       "      <th></th>\n",
       "      <th>mean_fit_time</th>\n",
       "      <th>std_fit_time</th>\n",
       "      <th>mean_score_time</th>\n",
       "      <th>std_score_time</th>\n",
       "      <th>param_C</th>\n",
       "      <th>param_kernel</th>\n",
       "      <th>params</th>\n",
       "      <th>split0_test_score</th>\n",
       "      <th>split1_test_score</th>\n",
       "      <th>split2_test_score</th>\n",
       "      <th>split3_test_score</th>\n",
       "      <th>split4_test_score</th>\n",
       "      <th>mean_test_score</th>\n",
       "      <th>std_test_score</th>\n",
       "      <th>rank_test_score</th>\n",
       "    </tr>\n",
       "  </thead>\n",
       "  <tbody>\n",
       "    <tr>\n",
       "      <th>0</th>\n",
       "      <td>0.041683</td>\n",
       "      <td>0.002642</td>\n",
       "      <td>0.008975</td>\n",
       "      <td>0.000630</td>\n",
       "      <td>1</td>\n",
       "      <td>rbf</td>\n",
       "      <td>{'C': 1, 'kernel': 'rbf'}</td>\n",
       "      <td>0.687500</td>\n",
       "      <td>0.685039</td>\n",
       "      <td>0.685039</td>\n",
       "      <td>0.692913</td>\n",
       "      <td>0.692913</td>\n",
       "      <td>0.688681</td>\n",
       "      <td>0.003571</td>\n",
       "      <td>4</td>\n",
       "    </tr>\n",
       "    <tr>\n",
       "      <th>1</th>\n",
       "      <td>1.894931</td>\n",
       "      <td>0.467824</td>\n",
       "      <td>0.002005</td>\n",
       "      <td>0.000647</td>\n",
       "      <td>1</td>\n",
       "      <td>linear</td>\n",
       "      <td>{'C': 1, 'kernel': 'linear'}</td>\n",
       "      <td>0.773438</td>\n",
       "      <td>0.740157</td>\n",
       "      <td>0.763780</td>\n",
       "      <td>0.803150</td>\n",
       "      <td>0.803150</td>\n",
       "      <td>0.776735</td>\n",
       "      <td>0.024133</td>\n",
       "      <td>2</td>\n",
       "    </tr>\n",
       "    <tr>\n",
       "      <th>2</th>\n",
       "      <td>0.018744</td>\n",
       "      <td>0.000412</td>\n",
       "      <td>0.004394</td>\n",
       "      <td>0.000795</td>\n",
       "      <td>10</td>\n",
       "      <td>rbf</td>\n",
       "      <td>{'C': 10, 'kernel': 'rbf'}</td>\n",
       "      <td>0.687500</td>\n",
       "      <td>0.685039</td>\n",
       "      <td>0.685039</td>\n",
       "      <td>0.692913</td>\n",
       "      <td>0.692913</td>\n",
       "      <td>0.688681</td>\n",
       "      <td>0.003571</td>\n",
       "      <td>4</td>\n",
       "    </tr>\n",
       "    <tr>\n",
       "      <th>3</th>\n",
       "      <td>18.569156</td>\n",
       "      <td>2.331063</td>\n",
       "      <td>0.002194</td>\n",
       "      <td>0.000747</td>\n",
       "      <td>10</td>\n",
       "      <td>linear</td>\n",
       "      <td>{'C': 10, 'kernel': 'linear'}</td>\n",
       "      <td>0.765625</td>\n",
       "      <td>0.724409</td>\n",
       "      <td>0.755906</td>\n",
       "      <td>0.818898</td>\n",
       "      <td>0.803150</td>\n",
       "      <td>0.773597</td>\n",
       "      <td>0.033827</td>\n",
       "      <td>3</td>\n",
       "    </tr>\n",
       "    <tr>\n",
       "      <th>4</th>\n",
       "      <td>0.017346</td>\n",
       "      <td>0.000794</td>\n",
       "      <td>0.003996</td>\n",
       "      <td>0.000014</td>\n",
       "      <td>20</td>\n",
       "      <td>rbf</td>\n",
       "      <td>{'C': 20, 'kernel': 'rbf'}</td>\n",
       "      <td>0.687500</td>\n",
       "      <td>0.685039</td>\n",
       "      <td>0.685039</td>\n",
       "      <td>0.692913</td>\n",
       "      <td>0.692913</td>\n",
       "      <td>0.688681</td>\n",
       "      <td>0.003571</td>\n",
       "      <td>4</td>\n",
       "    </tr>\n",
       "    <tr>\n",
       "      <th>5</th>\n",
       "      <td>28.366768</td>\n",
       "      <td>6.778133</td>\n",
       "      <td>0.002406</td>\n",
       "      <td>0.000805</td>\n",
       "      <td>20</td>\n",
       "      <td>linear</td>\n",
       "      <td>{'C': 20, 'kernel': 'linear'}</td>\n",
       "      <td>0.765625</td>\n",
       "      <td>0.740157</td>\n",
       "      <td>0.771654</td>\n",
       "      <td>0.811024</td>\n",
       "      <td>0.818898</td>\n",
       "      <td>0.781471</td>\n",
       "      <td>0.029422</td>\n",
       "      <td>1</td>\n",
       "    </tr>\n",
       "  </tbody>\n",
       "</table>\n",
       "</div>"
      ],
      "text/plain": [
       "   mean_fit_time  std_fit_time  mean_score_time  std_score_time param_C  \\\n",
       "0       0.041683      0.002642         0.008975        0.000630       1   \n",
       "1       1.894931      0.467824         0.002005        0.000647       1   \n",
       "2       0.018744      0.000412         0.004394        0.000795      10   \n",
       "3      18.569156      2.331063         0.002194        0.000747      10   \n",
       "4       0.017346      0.000794         0.003996        0.000014      20   \n",
       "5      28.366768      6.778133         0.002406        0.000805      20   \n",
       "\n",
       "  param_kernel                         params  split0_test_score  \\\n",
       "0          rbf      {'C': 1, 'kernel': 'rbf'}           0.687500   \n",
       "1       linear   {'C': 1, 'kernel': 'linear'}           0.773438   \n",
       "2          rbf     {'C': 10, 'kernel': 'rbf'}           0.687500   \n",
       "3       linear  {'C': 10, 'kernel': 'linear'}           0.765625   \n",
       "4          rbf     {'C': 20, 'kernel': 'rbf'}           0.687500   \n",
       "5       linear  {'C': 20, 'kernel': 'linear'}           0.765625   \n",
       "\n",
       "   split1_test_score  split2_test_score  split3_test_score  split4_test_score  \\\n",
       "0           0.685039           0.685039           0.692913           0.692913   \n",
       "1           0.740157           0.763780           0.803150           0.803150   \n",
       "2           0.685039           0.685039           0.692913           0.692913   \n",
       "3           0.724409           0.755906           0.818898           0.803150   \n",
       "4           0.685039           0.685039           0.692913           0.692913   \n",
       "5           0.740157           0.771654           0.811024           0.818898   \n",
       "\n",
       "   mean_test_score  std_test_score  rank_test_score  \n",
       "0         0.688681        0.003571                4  \n",
       "1         0.776735        0.024133                2  \n",
       "2         0.688681        0.003571                4  \n",
       "3         0.773597        0.033827                3  \n",
       "4         0.688681        0.003571                4  \n",
       "5         0.781471        0.029422                1  "
      ]
     },
     "execution_count": 15,
     "metadata": {},
     "output_type": "execute_result"
    }
   ],
   "source": [
    "# Store the GridSearchCV Results in a DataFrame\n",
    "df2 = pd.DataFrame(clf.cv_results_)\n",
    "df2"
   ]
  },
  {
   "cell_type": "code",
   "execution_count": 16,
   "metadata": {
    "colab": {
     "base_uri": "https://localhost:8080/",
     "height": 225
    },
    "id": "EaNFjf9InTQf",
    "outputId": "f951e798-a555-46b5-9597-5061dde5555d"
   },
   "outputs": [
    {
     "data": {
      "text/html": [
       "<div>\n",
       "<style scoped>\n",
       "    .dataframe tbody tr th:only-of-type {\n",
       "        vertical-align: middle;\n",
       "    }\n",
       "\n",
       "    .dataframe tbody tr th {\n",
       "        vertical-align: top;\n",
       "    }\n",
       "\n",
       "    .dataframe thead th {\n",
       "        text-align: right;\n",
       "    }\n",
       "</style>\n",
       "<table border=\"1\" class=\"dataframe\">\n",
       "  <thead>\n",
       "    <tr style=\"text-align: right;\">\n",
       "      <th></th>\n",
       "      <th>param_C</th>\n",
       "      <th>param_kernel</th>\n",
       "      <th>mean_test_score</th>\n",
       "    </tr>\n",
       "  </thead>\n",
       "  <tbody>\n",
       "    <tr>\n",
       "      <th>0</th>\n",
       "      <td>1</td>\n",
       "      <td>rbf</td>\n",
       "      <td>0.688681</td>\n",
       "    </tr>\n",
       "    <tr>\n",
       "      <th>1</th>\n",
       "      <td>1</td>\n",
       "      <td>linear</td>\n",
       "      <td>0.776735</td>\n",
       "    </tr>\n",
       "    <tr>\n",
       "      <th>2</th>\n",
       "      <td>10</td>\n",
       "      <td>rbf</td>\n",
       "      <td>0.688681</td>\n",
       "    </tr>\n",
       "    <tr>\n",
       "      <th>3</th>\n",
       "      <td>10</td>\n",
       "      <td>linear</td>\n",
       "      <td>0.773597</td>\n",
       "    </tr>\n",
       "    <tr>\n",
       "      <th>4</th>\n",
       "      <td>20</td>\n",
       "      <td>rbf</td>\n",
       "      <td>0.688681</td>\n",
       "    </tr>\n",
       "    <tr>\n",
       "      <th>5</th>\n",
       "      <td>20</td>\n",
       "      <td>linear</td>\n",
       "      <td>0.781471</td>\n",
       "    </tr>\n",
       "  </tbody>\n",
       "</table>\n",
       "</div>"
      ],
      "text/plain": [
       "  param_C param_kernel  mean_test_score\n",
       "0       1          rbf         0.688681\n",
       "1       1       linear         0.776735\n",
       "2      10          rbf         0.688681\n",
       "3      10       linear         0.773597\n",
       "4      20          rbf         0.688681\n",
       "5      20       linear         0.781471"
      ]
     },
     "execution_count": 16,
     "metadata": {},
     "output_type": "execute_result"
    }
   ],
   "source": [
    "# Check the Model SCore For different values of C and Kernel used\n",
    "df2[['param_C','param_kernel','mean_test_score']]"
   ]
  },
  {
   "cell_type": "code",
   "execution_count": 17,
   "metadata": {
    "colab": {
     "base_uri": "https://localhost:8080/"
    },
    "id": "WeSNXPYNnXap",
    "outputId": "27d21972-779e-4639-98f5-debda1aae08c"
   },
   "outputs": [
    {
     "name": "stdout",
     "output_type": "stream",
     "text": [
      "Best Model Parameters :  {'C': 20, 'kernel': 'linear'}\n"
     ]
    }
   ],
   "source": [
    "print('Best Model Parameters : ',clf.best_params_)"
   ]
  },
  {
   "cell_type": "code",
   "execution_count": 18,
   "metadata": {
    "colab": {
     "base_uri": "https://localhost:8080/"
    },
    "id": "f_fbST5CnbD5",
    "outputId": "d313280c-486b-4e5b-f7cb-59e1c03da6df"
   },
   "outputs": [
    {
     "name": "stdout",
     "output_type": "stream",
     "text": [
      "Best Score : 0.781\n"
     ]
    }
   ],
   "source": [
    "print('Best Score :', round(clf.best_score_,3))"
   ]
  },
  {
   "cell_type": "markdown",
   "metadata": {
    "id": "lgt9Kd9pnig8"
   },
   "source": [
    "<b>Use RandomizedSearchCV to reduce number of iterations and with random combination of parameters. This is useful when you have too many parameters to try and your training time is longer. It helps reduce the cost of computation Time.</b>"
   ]
  },
  {
   "cell_type": "code",
   "execution_count": 19,
   "metadata": {
    "colab": {
     "base_uri": "https://localhost:8080/",
     "height": 106
    },
    "id": "Ruz6ZKjWnd2f",
    "outputId": "033e647b-0885-4456-abbe-fce4d2b84e94"
   },
   "outputs": [
    {
     "data": {
      "text/html": [
       "<div>\n",
       "<style scoped>\n",
       "    .dataframe tbody tr th:only-of-type {\n",
       "        vertical-align: middle;\n",
       "    }\n",
       "\n",
       "    .dataframe tbody tr th {\n",
       "        vertical-align: top;\n",
       "    }\n",
       "\n",
       "    .dataframe thead th {\n",
       "        text-align: right;\n",
       "    }\n",
       "</style>\n",
       "<table border=\"1\" class=\"dataframe\">\n",
       "  <thead>\n",
       "    <tr style=\"text-align: right;\">\n",
       "      <th></th>\n",
       "      <th>param_C</th>\n",
       "      <th>param_kernel</th>\n",
       "      <th>mean_test_score</th>\n",
       "    </tr>\n",
       "  </thead>\n",
       "  <tbody>\n",
       "    <tr>\n",
       "      <th>0</th>\n",
       "      <td>10</td>\n",
       "      <td>rbf</td>\n",
       "      <td>0.688681</td>\n",
       "    </tr>\n",
       "    <tr>\n",
       "      <th>1</th>\n",
       "      <td>1</td>\n",
       "      <td>linear</td>\n",
       "      <td>0.776735</td>\n",
       "    </tr>\n",
       "  </tbody>\n",
       "</table>\n",
       "</div>"
      ],
      "text/plain": [
       "  param_C param_kernel  mean_test_score\n",
       "0      10          rbf         0.688681\n",
       "1       1       linear         0.776735"
      ]
     },
     "execution_count": 19,
     "metadata": {},
     "output_type": "execute_result"
    }
   ],
   "source": [
    "from sklearn.model_selection import RandomizedSearchCV\n",
    "rs = RandomizedSearchCV(svm.SVC(gamma='auto'), {\n",
    "        'C': [1,10,20],\n",
    "        'kernel': ['rbf','linear']\n",
    "    }, \n",
    "    cv=5, \n",
    "    return_train_score=False, \n",
    "    n_iter=2\n",
    ")\n",
    "rs.fit(inputs, target)\n",
    "pd.DataFrame(rs.cv_results_)[['param_C','param_kernel','mean_test_score']]"
   ]
  },
  {
   "cell_type": "markdown",
   "metadata": {
    "id": "fdrxa0xdoQN8"
   },
   "source": [
    "**How about different models with different hyperparameters?**"
   ]
  },
  {
   "cell_type": "code",
   "execution_count": 20,
   "metadata": {
    "id": "n1mKSw-RnmrO"
   },
   "outputs": [],
   "source": [
    "from sklearn import svm\n",
    "from sklearn.ensemble import RandomForestClassifier\n",
    "from sklearn.linear_model import LogisticRegression\n",
    "\n",
    "# Dictionary consisting of 3 Models (SVM, RandomForest & Logistic Regression) and their Hyper-parameter list\n",
    "model_params = {\n",
    "    'svm': {\n",
    "        'model': svm.SVC(gamma='auto'),\n",
    "        'params' : {\n",
    "            'C': [1,10,20],\n",
    "            'kernel': ['rbf','linear']\n",
    "        }  \n",
    "    },\n",
    "    'random_forest': {\n",
    "        'model': RandomForestClassifier(),\n",
    "        'params' : {\n",
    "            'n_estimators': [1,5,10]\n",
    "        }\n",
    "    },\n",
    "    'logistic_regression' : {\n",
    "        'model': LogisticRegression(solver='liblinear',multi_class='auto'),\n",
    "        'params': {\n",
    "            'C': [1,5,10]\n",
    "        }\n",
    "    }\n",
    "}"
   ]
  },
  {
   "cell_type": "code",
   "execution_count": 21,
   "metadata": {
    "colab": {
     "base_uri": "https://localhost:8080/",
     "height": 136
    },
    "id": "jYg5P8SJoT-k",
    "outputId": "fee4c751-f3ec-4937-95c7-4c6b1a73f0d0"
   },
   "outputs": [
    {
     "data": {
      "text/html": [
       "<div>\n",
       "<style scoped>\n",
       "    .dataframe tbody tr th:only-of-type {\n",
       "        vertical-align: middle;\n",
       "    }\n",
       "\n",
       "    .dataframe tbody tr th {\n",
       "        vertical-align: top;\n",
       "    }\n",
       "\n",
       "    .dataframe thead th {\n",
       "        text-align: right;\n",
       "    }\n",
       "</style>\n",
       "<table border=\"1\" class=\"dataframe\">\n",
       "  <thead>\n",
       "    <tr style=\"text-align: right;\">\n",
       "      <th></th>\n",
       "      <th>model</th>\n",
       "      <th>best_score</th>\n",
       "      <th>best_params</th>\n",
       "    </tr>\n",
       "  </thead>\n",
       "  <tbody>\n",
       "    <tr>\n",
       "      <th>0</th>\n",
       "      <td>svm</td>\n",
       "      <td>0.781471</td>\n",
       "      <td>{'C': 20, 'kernel': 'linear'}</td>\n",
       "    </tr>\n",
       "    <tr>\n",
       "      <th>1</th>\n",
       "      <td>random_forest</td>\n",
       "      <td>0.781447</td>\n",
       "      <td>{'n_estimators': 10}</td>\n",
       "    </tr>\n",
       "    <tr>\n",
       "      <th>2</th>\n",
       "      <td>logistic_regression</td>\n",
       "      <td>0.783046</td>\n",
       "      <td>{'C': 5}</td>\n",
       "    </tr>\n",
       "  </tbody>\n",
       "</table>\n",
       "</div>"
      ],
      "text/plain": [
       "                 model  best_score                    best_params\n",
       "0                  svm    0.781471  {'C': 20, 'kernel': 'linear'}\n",
       "1        random_forest    0.781447           {'n_estimators': 10}\n",
       "2  logistic_regression    0.783046                       {'C': 5}"
      ]
     },
     "execution_count": 21,
     "metadata": {},
     "output_type": "execute_result"
    }
   ],
   "source": [
    "# Initialize a list to Store Model name, best score and best parameters\n",
    "scores = []\n",
    "\n",
    "# Import Models & their parameters from the dictionary\n",
    "for model_name, mp in model_params.items():\n",
    "    clf =  GridSearchCV(mp['model'], mp['params'], cv=5, return_train_score=False)\n",
    "    clf.fit(inputs, target)\n",
    "    scores.append({\n",
    "        'model': model_name,\n",
    "        'best_score': clf.best_score_,\n",
    "        'best_params': clf.best_params_\n",
    "    })\n",
    "  \n",
    "# Make a Dataframe of the scores list with proper columns names\n",
    "df3 = pd.DataFrame(scores,columns=['model','best_score','best_params'])\n",
    "df3"
   ]
  },
  {
   "cell_type": "markdown",
   "metadata": {
    "id": "7l0zBI_QX33E"
   },
   "source": [
    "<b> In this way you, can perform Hyper-parameter tuning on multiple models at the same time.</b>"
   ]
  }
 ],
 "metadata": {
  "colab": {
   "name": "GridsearchCV_1.ipynb",
   "provenance": []
  },
  "kernelspec": {
   "display_name": "Python 3",
   "language": "python",
   "name": "python3"
  },
  "language_info": {
   "codemirror_mode": {
    "name": "ipython",
    "version": 3
   },
   "file_extension": ".py",
   "mimetype": "text/x-python",
   "name": "python",
   "nbconvert_exporter": "python",
   "pygments_lexer": "ipython3",
   "version": "3.8.1"
  }
 },
 "nbformat": 4,
 "nbformat_minor": 1
}
